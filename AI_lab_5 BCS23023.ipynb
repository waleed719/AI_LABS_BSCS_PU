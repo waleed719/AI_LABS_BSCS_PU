{
 "cells": [
  {
   "cell_type": "markdown",
   "id": "364b1a12",
   "metadata": {},
   "source": [
    "QUESTION 1"
   ]
  },
  {
   "cell_type": "code",
   "execution_count": 1,
   "id": "0848a72c",
   "metadata": {},
   "outputs": [
    {
     "name": "stdout",
     "output_type": "stream",
     "text": [
      "Graph (Adjacency List):\n",
      "0 --> [1, 4]\n",
      "1 --> [0, 2, 3, 4]\n",
      "4 --> [0, 1, 3]\n",
      "2 --> [1, 3]\n",
      "3 --> [1, 2, 4]\n",
      "\n",
      "BFS Traversal starting from node 0:\n",
      "0 1 4 2 3 "
     ]
    }
   ],
   "source": [
    "from collections import deque\n",
    "\n",
    "class Graph:\n",
    "    def __init__(self):\n",
    "        self.graph = {}\n",
    "\n",
    "    def add_edge(self, u, v):\n",
    "        if u not in self.graph:\n",
    "            self.graph[u] = []\n",
    "        if v not in self.graph:\n",
    "            self.graph[v] = []\n",
    "\n",
    "        self.graph[u].append(v)\n",
    "        self.graph[v].append(u)\n",
    "\n",
    "    def display(self):\n",
    "        print(\"Graph (Adjacency List):\")\n",
    "        for node in self.graph:\n",
    "            print(f\"{node} --> {self.graph[node]}\")\n",
    "\n",
    "    def bfs(self, start):\n",
    "        visited = set()\n",
    "        queue = deque([start])\n",
    "        print(f\"\\nBFS Traversal starting from node {start}:\")\n",
    "\n",
    "        while queue:\n",
    "            node = queue.popleft()\n",
    "            if node not in visited:\n",
    "                print(node, end=\" \") \n",
    "                visited.add(node)\n",
    "\n",
    "                # Enqueue all unvisited neighbors\n",
    "                for neighbor in self.graph[node]:\n",
    "                    if neighbor not in visited:\n",
    "                        queue.append(neighbor)\n",
    "\n",
    "g = Graph()\n",
    "\n",
    "edges = [\n",
    "    (0, 1), (0, 4), (1, 2),\n",
    "    (1, 3), (1, 4), (2, 3), (3, 4)\n",
    "]\n",
    "\n",
    "for u, v in edges:\n",
    "    g.add_edge(u, v)\n",
    "\n",
    "g.display()\n",
    "g.bfs(0)\n"
   ]
  },
  {
   "cell_type": "markdown",
   "id": "bfcbf814",
   "metadata": {},
   "source": [
    "QUESTION 2"
   ]
  },
  {
   "cell_type": "code",
   "execution_count": 2,
   "id": "fac2a110",
   "metadata": {},
   "outputs": [
    {
     "name": "stdout",
     "output_type": "stream",
     "text": [
      "Breadth First Traversal starting from vertex 2 :\n",
      "2 0 3 1 "
     ]
    }
   ],
   "source": [
    "from collections import defaultdict, deque\n",
    "\n",
    "class Graph:\n",
    "    def __init__(self, V):\n",
    "        self.V = V\n",
    "        self.adj = defaultdict(list)\n",
    "    def addEdge(self, v, w):\n",
    "        self.adj[v].append(w)\n",
    "    def BFS(self, start):\n",
    "        visited = [False] * self.V \n",
    "        queue = deque([start])\n",
    "        visited[start] = True\n",
    "\n",
    "        print(\"Breadth First Traversal starting from vertex\", start, \":\")\n",
    "        while queue:\n",
    "            s = queue.popleft()\n",
    "            print(s, end=\" \")\n",
    "\n",
    "            for neighbor in self.adj[s]:\n",
    "                if not visited[neighbor]:\n",
    "                    visited[neighbor] = True\n",
    "                    queue.append(neighbor)\n",
    "\n",
    "g = Graph(4)\n",
    "g.addEdge(0, 1)\n",
    "g.addEdge(0, 2)\n",
    "g.addEdge(1, 2)\n",
    "g.addEdge(2, 0)\n",
    "g.addEdge(2, 3)\n",
    "g.addEdge(3, 3)\n",
    "\n",
    "g.BFS(2)\n"
   ]
  },
  {
   "cell_type": "markdown",
   "id": "beb9bf43",
   "metadata": {},
   "source": [
    "QAUESTION 3"
   ]
  },
  {
   "cell_type": "code",
   "execution_count": 3,
   "id": "81b6f297",
   "metadata": {},
   "outputs": [
    {
     "name": "stdout",
     "output_type": "stream",
     "text": [
      "Path from A to M: ['A', 'B', 'K', 'M']\n"
     ]
    }
   ],
   "source": [
    "from collections import deque\n",
    "\n",
    "graph = {\n",
    "    'A': ['B', 'F', 'D', 'E'],\n",
    "    'B': ['K', 'J'],\n",
    "    'F': [],\n",
    "    'D': ['G'],\n",
    "    'E': ['C', 'H', 'I'],\n",
    "    'K': ['N', 'M'],\n",
    "    'J': [],\n",
    "    'G': [],\n",
    "    'C': [],\n",
    "    'H': [],\n",
    "    'I': ['L'],\n",
    "    'N': [],\n",
    "    'M': [],\n",
    "    'L': []\n",
    "}\n",
    "\n",
    "def bfs(start, goal):\n",
    "    queue = deque()\n",
    "    queue.append([start]) \n",
    "    visited = []          \n",
    "    while queue:\n",
    "        path = queue.popleft()  \n",
    "        node = path[-1]\n",
    "\n",
    "        if node not in visited:\n",
    "            visited.append(node)\n",
    "            if node == goal:\n",
    "                return path\n",
    "\n",
    "            for neighbor in graph[node]:\n",
    "                new_path = path + [neighbor]\n",
    "                queue.append(new_path)\n",
    "\n",
    "    return None  # No path found\n",
    "\n",
    "\n",
    "result = bfs('A', 'M')\n",
    "print(\"Path from A to M:\", result)\n"
   ]
  },
  {
   "cell_type": "markdown",
   "id": "f3a519fc",
   "metadata": {},
   "source": [
    "QUESTION 4"
   ]
  },
  {
   "cell_type": "code",
   "execution_count": 5,
   "id": "aa6d83f1",
   "metadata": {},
   "outputs": [
    {
     "name": "stdout",
     "output_type": "stream",
     "text": [
      "Priority Queue:\n",
      "Item: Task B, Priority: 1\n",
      "Item: Task C, Priority: 2\n",
      "Item: Task A, Priority: 3\n",
      "Dequeued: Task B\n",
      "Priority Queue:\n",
      "Item: Task C, Priority: 2\n",
      "Item: Task A, Priority: 3\n"
     ]
    }
   ],
   "source": [
    "class PriorityQueue:\n",
    "    def __init__(self):\n",
    "        self.queue = []\n",
    "\n",
    "    def enqueue(self, item, priority):\n",
    "        self.queue.append((priority, item))\n",
    "\n",
    "    def dequeue(self):\n",
    "        if not self.queue:\n",
    "            return None\n",
    "        self.queue.sort()\n",
    "        return self.queue.pop(0)[1]\n",
    "    def display(self):\n",
    "        print(\"Priority Queue:\")\n",
    "        for priority, item in sorted(self.queue):\n",
    "            print(f\"Item: {item}, Priority: {priority}\")\n",
    "\n",
    "pq = PriorityQueue()\n",
    "pq.enqueue(\"Task A\", 3)\n",
    "pq.enqueue(\"Task B\", 1)\n",
    "pq.enqueue(\"Task C\", 2)\n",
    "\n",
    "pq.display()\n",
    "\n",
    "print(\"Dequeued:\", pq.dequeue())\n",
    "pq.display()\n"
   ]
  }
 ],
 "metadata": {
  "kernelspec": {
   "display_name": "base",
   "language": "python",
   "name": "python3"
  },
  "language_info": {
   "codemirror_mode": {
    "name": "ipython",
    "version": 3
   },
   "file_extension": ".py",
   "mimetype": "text/x-python",
   "name": "python",
   "nbconvert_exporter": "python",
   "pygments_lexer": "ipython3",
   "version": "3.12.7"
  }
 },
 "nbformat": 4,
 "nbformat_minor": 5
}
