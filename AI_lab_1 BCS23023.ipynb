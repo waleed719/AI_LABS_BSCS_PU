{
 "cells": [
  {
   "cell_type": "code",
   "execution_count": 2,
   "metadata": {},
   "outputs": [
    {
     "name": "stdout",
     "output_type": "stream",
     "text": [
      "Hello Wolrd\n"
     ]
    }
   ],
   "source": [
    "print(\"Hello Wolrd\")\n"
   ]
  },
  {
   "cell_type": "code",
   "execution_count": 4,
   "metadata": {},
   "outputs": [
    {
     "name": "stdout",
     "output_type": "stream",
     "text": [
      "There are two comments\n"
     ]
    }
   ],
   "source": [
    "x = 1\n",
    "#the initial value of x is 1\n",
    "if x > 0:\n",
    "    print(\"There are two comments\")     #print a statement"
   ]
  },
  {
   "cell_type": "code",
   "execution_count": 6,
   "metadata": {},
   "outputs": [
    {
     "name": "stdout",
     "output_type": "stream",
     "text": [
      "hello world\n"
     ]
    }
   ],
   "source": [
    "txt = input(\"Type something to test out:\")\n",
    "print(txt)"
   ]
  },
  {
   "cell_type": "code",
   "execution_count": 8,
   "metadata": {},
   "outputs": [
    {
     "name": "stdout",
     "output_type": "stream",
     "text": [
      "Statement1\n",
      "Statement2\n",
      "Statement1\n",
      "Statement2\n"
     ]
    }
   ],
   "source": [
    "print(\"Statement1\")\n",
    "print(\"Statement2\")\n",
    "#You can write two statements on single line\n",
    "print(\"Statement1\"); print(\"Statement2\")"
   ]
  },
  {
   "cell_type": "code",
   "execution_count": 10,
   "metadata": {},
   "outputs": [
    {
     "ename": "IndentationError",
     "evalue": "expected an indented block after 'if' statement on line 2 (2706069244.py, line 3)",
     "output_type": "error",
     "traceback": [
      "\u001b[1;36m  Cell \u001b[1;32mIn[10], line 3\u001b[1;36m\u001b[0m\n\u001b[1;33m    print(\"There is no indentation\")     #print a statement\u001b[0m\n\u001b[1;37m    ^\u001b[0m\n\u001b[1;31mIndentationError\u001b[0m\u001b[1;31m:\u001b[0m expected an indented block after 'if' statement on line 2\n"
     ]
    }
   ],
   "source": [
    "x = 1\n",
    "if x > 0:\n",
    "print(\"There is no indentation\")     #print a statement"
   ]
  },
  {
   "cell_type": "code",
   "execution_count": 11,
   "metadata": {},
   "outputs": [
    {
     "name": "stdout",
     "output_type": "stream",
     "text": [
      "There is a single space indentation\n"
     ]
    }
   ],
   "source": [
    "x = 1\n",
    "if x > 0:\n",
    " print(\"There is a single space indentation\")"
   ]
  },
  {
   "cell_type": "code",
   "execution_count": 13,
   "metadata": {},
   "outputs": [
    {
     "name": "stdout",
     "output_type": "stream",
     "text": [
      "There is a single tab indentation\n"
     ]
    }
   ],
   "source": [
    "x = 1\n",
    "if x > 0:\n",
    "    print(\"There is a single tab indentation\")"
   ]
  },
  {
   "cell_type": "code",
   "execution_count": 15,
   "metadata": {},
   "outputs": [
    {
     "name": "stdout",
     "output_type": "stream",
     "text": [
      "There is a single space + tab indentation\n"
     ]
    }
   ],
   "source": [
    "x = 1\n",
    "if x > 0:\n",
    "    print(\"There is a single space + tab indentation\")"
   ]
  },
  {
   "cell_type": "code",
   "execution_count": 17,
   "metadata": {},
   "outputs": [
    {
     "name": "stdout",
     "output_type": "stream",
     "text": [
      "<class 'int'>\n",
      "<class 'float'>\n",
      "<class 'complex'>\n",
      "<class 'bool'>\n"
     ]
    }
   ],
   "source": [
    "x = 12\n",
    "y = 3.14\n",
    "z = 3 + 9j\n",
    "has_eaten = False\n",
    "\n",
    "print(type(x))\n",
    "print(type(y))\n",
    "print(type(z))\n",
    "print(type(has_eaten))\n"
   ]
  },
  {
   "cell_type": "code",
   "execution_count": 20,
   "metadata": {},
   "outputs": [
    {
     "name": "stdout",
     "output_type": "stream",
     "text": [
      "String1\n",
      "<class 'str'>\n"
     ]
    }
   ],
   "source": [
    "str1 = \"String1\"\n",
    "print(str1)\n",
    "print(type(str1))"
   ]
  },
  {
   "cell_type": "code",
   "execution_count": 22,
   "metadata": {},
   "outputs": [
    {
     "name": "stdout",
     "output_type": "stream",
     "text": [
      "This is a backlash (\\) sign\n",
      "This is a tab \t sign\n",
      "This is a single quotes' sign\n",
      "This is a double quote \" sign\n",
      "This is a new line \n",
      "New Line\n"
     ]
    }
   ],
   "source": [
    "#SPECIAL CHARACTERS\n",
    "print(\"This is a backlash (\\\\) sign\")\n",
    "print(\"This is a tab \\t sign\")\n",
    "print(\"This is a single quotes\\' sign\")\n",
    "print(\"This is a double quote \\\" sign\")\n",
    "print(\"This is a new line \\nNew Line\")\n"
   ]
  },
  {
   "cell_type": "code",
   "execution_count": 25,
   "metadata": {},
   "outputs": [
    {
     "name": "stdout",
     "output_type": "stream",
     "text": [
      "P\n",
      "Y\n",
      "T\n",
      "O\n",
      "I\n"
     ]
    }
   ],
   "source": [
    "string1 = \"PYTHON TUTORIAL\"\n",
    "print(string1[0])\n",
    "print(string1[1])\n",
    "print(string1[2])\n",
    "print(string1[-5])\n",
    "print(string1[12])"
   ]
  },
  {
   "cell_type": "code",
   "execution_count": 29,
   "metadata": {},
   "outputs": [
    {
     "name": "stdout",
     "output_type": "stream",
     "text": [
      "[1, 2, 3, 4, 5]\n",
      "<class 'list'>\n",
      "[1.1, 2.2, 3.3, 4.4, 5.5]\n",
      "<class 'list'>\n",
      "[100, 'color', True]\n",
      "<class 'list'>\n"
     ]
    }
   ],
   "source": [
    "list1 = [1,2,3,4,5]\n",
    "print(list1)\n",
    "print(type(list1))\n",
    "\n",
    "list2 = [1.1,2.2,3.3,4.4,5.5]\n",
    "print(list2)\n",
    "print(type(list2))\n",
    "\n",
    "list3 = [100, 'color', True]\n",
    "print(list3)\n",
    "print(type(list3))"
   ]
  },
  {
   "cell_type": "code",
   "execution_count": 35,
   "metadata": {},
   "outputs": [
    {
     "name": "stdout",
     "output_type": "stream",
     "text": [
      "True\n"
     ]
    }
   ],
   "source": [
    "#LIST INDICES\n",
    "print(list3[2])"
   ]
  },
  {
   "cell_type": "code",
   "execution_count": 33,
   "metadata": {},
   "outputs": [
    {
     "name": "stdout",
     "output_type": "stream",
     "text": [
      "[1, 2, 3]\n",
      "[3.3, 4.4]\n"
     ]
    }
   ],
   "source": [
    "#LIST SLICES\n",
    "print(list1[: 3])\n",
    "print(list2[-3: -1])"
   ]
  }
 ],
 "metadata": {
  "kernelspec": {
   "display_name": "base",
   "language": "python",
   "name": "python3"
  },
  "language_info": {
   "codemirror_mode": {
    "name": "ipython",
    "version": 3
   },
   "file_extension": ".py",
   "mimetype": "text/x-python",
   "name": "python",
   "nbconvert_exporter": "python",
   "pygments_lexer": "ipython3",
   "version": "3.12.7"
  }
 },
 "nbformat": 4,
 "nbformat_minor": 2
}
